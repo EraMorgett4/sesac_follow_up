{
 "cells": [
  {
   "cell_type": "markdown",
   "id": "f63f0a51",
   "metadata": {},
   "source": [
    "# 🧹 Pandas 데이터 전처리 실습 정리\n",
    "\n",
    "## 📌 1. 데이터 전처리란?\n",
    "데이터 전처리(Data Preprocessing)는 **원시 데이터를 분석 가능한 형태로 정리**하는 과정입니다.\n",
    "\n",
    "### ✅ 전처리의 필요성\n",
    "- 원시 데이터는 비정형적이고 불완전함\n",
    "- 결측치(NaN), 이상치(outlier), 중복값 등이 포함됨\n",
    "- 통일되지 않은 값 존재 (예: ‘남’, ‘남자’ / ‘경북’, ‘경상북도’)\n",
    "- 분석 및 모델링 정확도 향상을 위해 필수적\n",
    "- 데이터 전처리 작업은 전체 분석 과정의 70% 이상을 차지\n",
    "\n",
    "> ⚠️ Garbage In, Garbage Out: 전처리가 부실하면 결과도 신뢰할 수 없음.\n"
   ]
  },
  {
   "cell_type": "markdown",
   "id": "28799785",
   "metadata": {},
   "source": [
    "## 🧪 2. 자료형 변환 (`astype`)\n",
    "- `DataFrame.astype(dtype)`: 특정 컬럼의 자료형을 변환\n",
    "- `errors='ignore'`로 설정 시 변환 실패시 무시\n",
    "- 예: `df['col1'].astype('float')`\n",
    "\n",
    "### 관련 함수들:\n",
    "- `pd.to_datetime()`: 날짜형 변환\n",
    "- `pd.to_numeric()`: 숫자형 변환\n",
    "- `convert_dtypes()`: 자동으로 적절한 자료형으로 변환\n",
    "\n"
   ]
  },
  {
   "cell_type": "code",
   "execution_count": 2,
   "id": "d30d839e",
   "metadata": {},
   "outputs": [
    {
     "name": "stdout",
     "output_type": "stream",
     "text": [
      "col1      int32\n",
      "col2    float64\n",
      "dtype: object\n",
      "   col1  col2\n",
      "0     1   4.5\n",
      "1     2   5.5\n",
      "2     3   6.5\n"
     ]
    }
   ],
   "source": [
    "# 자료형 변환 예시\n",
    "import pandas as pd\n",
    "\n",
    "df = pd.DataFrame({\n",
    "    'col1': ['1', '2', '3'],\n",
    "    'col2': ['4.5', '5.5', '6.5']\n",
    "})\n",
    "df = df.astype({'col1': 'int32', 'col2': 'float'})\n",
    "print(df.dtypes)\n",
    "print(df)"
   ]
  },
  {
   "cell_type": "markdown",
   "id": "cb0293c9",
   "metadata": {},
   "source": [
    "## 🧩 3. GroupBy: 그룹 단위 연산\n",
    "\n",
    "### 📍 개요\n",
    "- `Split → Apply → Combine` 패턴으로 동작\n",
    "- 다양한 통계 연산(합계, 평균, 표준편차 등)을 그룹별로 처리 가능\n",
    "\n",
    "### 📂 GroupBy의 3가지 핵심 연산\n",
    "\n",
    "#### ① Aggregation (집계 연산)\n",
    "- 그룹별로 하나의 **요약값(단일 스칼라)**을 계산하는 연산입니다."
   ]
  },
  {
   "cell_type": "code",
   "execution_count": 3,
   "id": "80dcae7a",
   "metadata": {},
   "outputs": [
    {
     "name": "stdout",
     "output_type": "stream",
     "text": [
      "     sum       mean        std\n",
      "A                             \n",
      "bar   70  35.000000   7.071068\n",
      "foo   80  26.666667  20.816660\n"
     ]
    }
   ],
   "source": [
    "# GroupBy 집계 연산 예시\n",
    "import pandas as pd\n",
    "\n",
    "df = pd.DataFrame({\n",
    "    'A': ['foo', 'foo', 'bar', 'bar', 'foo'],\n",
    "    'C': [10, 20, 30, 40, 50]\n",
    "})\n",
    "result = df.groupby(\"A\")[\"C\"].agg([\"sum\", \"mean\", \"std\"])\n",
    "print(result)"
   ]
  },
  {
   "cell_type": "markdown",
   "id": "c255e171",
   "metadata": {},
   "source": [
    "#### ② Transformation (변환 연산)\n",
    "- 그룹별로 데이터를 **변형하되, 결과는 원래와 같은 크기의 DataFrame**으로 유지됩니다.\n",
    "```python\n",
    "df[\"C_mean_diff\"] = df.groupby(\"A\")[\"C\"].transform(lambda x: x - x.mean())\n",
    "```\n",
    "\n",
    "#### ③ Filtration (필터링 연산)\n",
    "- 조건에 따라 **특정 그룹 전체를 제거하거나 유지**합니다.\n",
    "```python\n",
    "df.groupby(\"A\").filter(lambda x: len(x) >= 2)\n",
    "```\n",
    "\n",
    "#### 🛠️ 실습 예시\n",
    "```python\n",
    "# Aggregation\n",
    "df.groupby(\"group\")[\"score\"].mean()\n",
    "\n",
    "# Transformation\n",
    "df[\"normalized\"] = df.groupby(\"group\")[\"score\"].transform(lambda x: (x - x.mean()) / x.std())\n",
    "\n",
    "# Filtration\n",
    "df.groupby(\"group\").filter(lambda x: x[\"score\"].mean() > 70)\n",
    "```"
   ]
  },
  {
   "cell_type": "code",
   "execution_count": 4,
   "id": "c5be5a35",
   "metadata": {},
   "outputs": [
    {
     "name": "stdout",
     "output_type": "stream",
     "text": [
      "Transformation 결과:\n",
      "  group  score  normalized\n",
      "0     A     80   -0.707107\n",
      "1     A     90    0.707107\n",
      "2     B     60   -0.800641\n",
      "3     B     70   -0.320256\n",
      "4     B    100    1.120897\n",
      "\n",
      "Filtration 결과:\n",
      "  group  score  normalized\n",
      "0     A     80   -0.707107\n",
      "1     A     90    0.707107\n",
      "2     B     60   -0.800641\n",
      "3     B     70   -0.320256\n",
      "4     B    100    1.120897\n"
     ]
    }
   ],
   "source": [
    "# Transformation & Filtration 예시\n",
    "import pandas as pd\n",
    "\n",
    "df = pd.DataFrame({\n",
    "    'group': ['A', 'A', 'B', 'B', 'B'],\n",
    "    'score': [80, 90, 60, 70, 100]\n",
    "})\n",
    "\n",
    "# Transformation\n",
    "df[\"normalized\"] = df.groupby(\"group\")[\"score\"].transform(lambda x: (x - x.mean()) / x.std())\n",
    "print(\"Transformation 결과:\")\n",
    "print(df)\n",
    "\n",
    "# Filtration\n",
    "filtered = df.groupby(\"group\").filter(lambda x: x[\"score\"].mean() > 70)\n",
    "print(\"\\nFiltration 결과:\")\n",
    "print(filtered)"
   ]
  },
  {
   "cell_type": "markdown",
   "id": "5d7c7c0a",
   "metadata": {},
   "source": [
    "## 🔁 4. 데이터 재구조화: `pivot`과 `melt` 자세히 이해하기\n",
    "\n",
    "### 🧷 `pivot`: 길고 납작한 데이터를 넓게 펼치기 (Long → Wide)\n",
    "\n",
    "```python\n",
    "DataFrame.pivot(index=행으로 쓸 컬럼, columns=열로 바꿀 컬럼, values=값으로 쓸 컬럼)\n",
    "```\n",
    "\n",
    "```python\n",
    "df = pd.DataFrame({\n",
    "    '날짜': ['2024-01-01', '2024-01-01', '2024-01-02', '2024-01-02'],\n",
    "    '지역': ['서울', '부산', '서울', '부산'],\n",
    "    'PM10': [70, 80, 90, 100]\n",
    "})\n",
    "df.pivot(index='날짜', columns='지역', values='PM10')\n",
    "```\n",
    "\n",
    "### 🔄 `melt`: 넓은 데이터를 길고 납작하게 변형 (Wide → Long)\n",
    "\n",
    "```python\n",
    "DataFrame.melt(id_vars=고정할 컬럼들, value_vars=변형할 열들, var_name=새 열이름, value_name=값열 이름)\n",
    "```\n",
    "\n",
    "```python\n",
    "wide_df = df.pivot(index='날짜', columns='지역', values='PM10').reset_index()\n",
    "pd.melt(wide_df, id_vars='날짜', var_name='지역', value_name='PM10')\n",
    "```\n",
    "\n",
    "### ✅ 정리\n",
    "| 함수   | 방향         | 주로 사용하는 상황                           |\n",
    "|--------|--------------|----------------------------------------------|\n",
    "| `pivot` | Long → Wide | 시계열이나 그룹별 데이터 비교, 시각화 목적 |\n",
    "| `melt`  | Wide → Long | 머신러닝 입력용, 분석을 위한 표준 구조화     |\n"
   ]
  },
  {
   "cell_type": "code",
   "execution_count": 5,
   "id": "df8d5d16",
   "metadata": {},
   "outputs": [
    {
     "name": "stdout",
     "output_type": "stream",
     "text": [
      "pivot 결과:\n",
      "지역           부산  서울\n",
      "날짜                 \n",
      "2024-01-01   80  70\n",
      "2024-01-02  100  90\n",
      "\n",
      "melt 결과:\n",
      "           날짜  지역  PM10\n",
      "0  2024-01-01  부산    80\n",
      "1  2024-01-02  부산   100\n",
      "2  2024-01-01  서울    70\n",
      "3  2024-01-02  서울    90\n"
     ]
    }
   ],
   "source": [
    "# pivot과 melt 예시\n",
    "import pandas as pd\n",
    "\n",
    "df = pd.DataFrame({\n",
    "    '날짜': ['2024-01-01', '2024-01-01', '2024-01-02', '2024-01-02'],\n",
    "    '지역': ['서울', '부산', '서울', '부산'],\n",
    "    'PM10': [70, 80, 90, 100]\n",
    "})\n",
    "\n",
    "# pivot\n",
    "pivoted = df.pivot(index='날짜', columns='지역', values='PM10')\n",
    "print(\"pivot 결과:\")\n",
    "print(pivoted)\n",
    "\n",
    "# melt\n",
    "wide_df = pivoted.reset_index()\n",
    "melted = pd.melt(wide_df, id_vars='날짜', var_name='지역', value_name='PM10')\n",
    "print(\"\\nmelt 결과:\")\n",
    "print(melted)"
   ]
  }
 ],
 "metadata": {
  "kernelspec": {
   "display_name": "py313",
   "language": "python",
   "name": "python3"
  },
  "language_info": {
   "name": "python",
   "version": "3.13.3"
  }
 },
 "nbformat": 4,
 "nbformat_minor": 5
}
